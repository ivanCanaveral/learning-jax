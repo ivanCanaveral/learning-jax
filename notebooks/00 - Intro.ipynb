{
 "cells": [
  {
   "cell_type": "code",
   "execution_count": null,
   "id": "a86ba632-a8ce-420e-9021-92a9b45cb5fb",
   "metadata": {},
   "outputs": [],
   "source": [
    "import jax.numpy as jnp\n",
    "from jax import jit\n",
    "from jax import random"
   ]
  },
  {
   "cell_type": "code",
   "execution_count": null,
   "id": "51226e80-da12-40db-b8ca-0eb0002f96ad",
   "metadata": {},
   "outputs": [],
   "source": [
    "def norm(X):\n",
    "  X = X - X.mean(0)\n",
    "  return X / X.std(0)"
   ]
  },
  {
   "cell_type": "code",
   "execution_count": null,
   "id": "50684370-d73a-4f7b-af81-8f41f9938426",
   "metadata": {},
   "outputs": [],
   "source": [
    "norm_compiled = jit(norm)"
   ]
  },
  {
   "cell_type": "code",
   "execution_count": null,
   "id": "0db8a8bd-a868-470a-8dbb-0603c916296c",
   "metadata": {},
   "outputs": [],
   "source": [
    "key = random.PRNGKey(73)\n",
    "X = jnp.array(random.normal(key, (1000, 10)))"
   ]
  },
  {
   "cell_type": "code",
   "execution_count": null,
   "id": "99284f03-432b-462d-aff9-f3544fdfeb2f",
   "metadata": {},
   "outputs": [],
   "source": [
    "%timeit norm(X).block_until_ready()\n",
    "%timeit norm_compiled(X).block_until_ready()"
   ]
  },
  {
   "cell_type": "code",
   "execution_count": null,
   "id": "09173abb-8f0a-4756-b947-f27b410f6219",
   "metadata": {},
   "outputs": [],
   "source": []
  }
 ],
 "metadata": {
  "kernelspec": {
   "display_name": "Python 3",
   "language": "python",
   "name": "python3"
  },
  "language_info": {
   "codemirror_mode": {
    "name": "ipython",
    "version": 3
   },
   "file_extension": ".py",
   "mimetype": "text/x-python",
   "name": "python",
   "nbconvert_exporter": "python",
   "pygments_lexer": "ipython3",
   "version": "3.8.5"
  },
  "toc-showmarkdowntxt": false
 },
 "nbformat": 4,
 "nbformat_minor": 5
}
